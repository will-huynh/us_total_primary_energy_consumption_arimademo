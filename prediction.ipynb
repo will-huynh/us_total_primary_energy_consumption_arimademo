{
 "cells": [
  {
   "cell_type": "code",
   "execution_count": 6,
   "id": "0ac0b3b7-cd1b-4be1-bcd9-1663528655a4",
   "metadata": {},
   "outputs": [],
   "source": [
    "#Get data from csv file; more advanced version should include option to interface with a database using odbc or a MySQL connector (ie: pymssql)\n",
    "import pandas as pd\n",
    "data = pd.read_csv(\"US Monthly Total Primary Energy Consumption.csv\", index_col=0)\n",
    "data.head()\n",
    "data.index = pd.to_datetime(data.index, format='%Y%m', errors='coerce').dropna()\n",
    "data.columns = ['Total Primary Energy Consumption (Quadrillion BTU)']"
   ]
  },
  {
   "cell_type": "code",
   "execution_count": 7,
   "id": "a1c087d0-fe8e-4a8c-bc13-5125599034aa",
   "metadata": {},
   "outputs": [
    {
     "data": {
      "text/html": [
       "\n",
       "        <iframe\n",
       "            width=\"100%\"\n",
       "            height=\"525px\"\n",
       "            src=\"https://plotly.com/~whuynh/10.embed\"\n",
       "            frameborder=\"0\"\n",
       "            allowfullscreen\n",
       "            \n",
       "        ></iframe>\n",
       "        "
      ],
      "text/plain": [
       "<IPython.lib.display.IFrame at 0x14d1a91a950>"
      ]
     },
     "execution_count": 7,
     "metadata": {},
     "output_type": "execute_result"
    }
   ],
   "source": [
    "#Create plot for input data; decompose input data into trend, seasonal, and residual components and plot the components\n",
    "import chart_studio.tools as cstools\n",
    "import chart_studio.plotly as ply\n",
    "import cufflinks as cf\n",
    "import matplotlib.pyplot as plt\n",
    "from chart_studio.plotly import plot_mpl\n",
    "from statsmodels.tsa.seasonal import seasonal_decompose\n",
    "cstools.set_credentials_file(username='whuynh', api_key='F4a1vCyqrUUxMorao8Qf')\n",
    "result = seasonal_decompose(data, model='multiplicative')\n",
    "#Uncomment below methods to replot decomposed data. Workaround due to plot_mpl no longer being supported offline; future update should include toggle.\n",
    "#fig = result.plot()\n",
    "#plot_mpl(fig)\n",
    "data.iplot(title=\"US Monthly Total Primary Energy Consumption, Jan 1973-April 2023\")"
   ]
  },
  {
   "cell_type": "code",
   "execution_count": 11,
   "id": "027eec9a-0459-49b2-aa38-97624a458eb8",
   "metadata": {},
   "outputs": [
    {
     "data": {
      "text/html": [
       "\n",
       "        <iframe\n",
       "            width=\"900\"\n",
       "            height=\"800\"\n",
       "            src=\"https://plotly.com/~whuynh/29.embed\"\n",
       "            frameborder=\"0\"\n",
       "            allowfullscreen\n",
       "            \n",
       "        ></iframe>\n",
       "        "
      ],
      "text/plain": [
       "<IPython.lib.display.IFrame at 0x14d1a74b210>"
      ]
     },
     "execution_count": 11,
     "metadata": {},
     "output_type": "execute_result"
    }
   ],
   "source": [
    "#Get plot for decomposed data from plotly's online platform.\n",
    "from IPython.display import IFrame\n",
    "IFrame(\"https://plotly.com/~whuynh/29.embed\", width=900, height=800)"
   ]
  },
  {
   "cell_type": "code",
   "execution_count": 12,
   "id": "a8ec0aa0-295e-48f1-83c1-6df19b76823d",
   "metadata": {},
   "outputs": [
    {
     "name": "stdout",
     "output_type": "stream",
     "text": [
      "Performing stepwise search to minimize aic\n",
      " ARIMA(1,1,1)(0,1,1)[12]             : AIC=-316.704, Time=0.73 sec\n",
      " ARIMA(0,1,0)(0,1,0)[12]             : AIC=53.357, Time=0.04 sec\n",
      " ARIMA(1,1,0)(1,1,0)[12]             : AIC=-78.173, Time=0.16 sec\n",
      " ARIMA(0,1,1)(0,1,1)[12]             : AIC=-296.050, Time=0.47 sec\n",
      " ARIMA(1,1,1)(0,1,0)[12]             : AIC=-57.777, Time=0.16 sec\n",
      " ARIMA(1,1,1)(1,1,1)[12]             : AIC=-317.586, Time=1.05 sec\n",
      " ARIMA(1,1,1)(1,1,0)[12]             : AIC=-139.602, Time=0.32 sec\n",
      " ARIMA(1,1,1)(2,1,1)[12]             : AIC=-335.792, Time=2.43 sec\n",
      " ARIMA(1,1,1)(2,1,0)[12]             : AIC=-222.013, Time=0.58 sec\n",
      " ARIMA(1,1,1)(2,1,2)[12]             : AIC=-340.072, Time=4.35 sec\n",
      " ARIMA(1,1,1)(1,1,2)[12]             : AIC=-322.507, Time=4.03 sec\n",
      " ARIMA(0,1,1)(2,1,2)[12]             : AIC=-322.777, Time=3.32 sec\n",
      " ARIMA(1,1,0)(2,1,2)[12]             : AIC=-288.017, Time=3.00 sec\n",
      " ARIMA(2,1,1)(2,1,2)[12]             : AIC=-338.252, Time=4.49 sec\n",
      " ARIMA(1,1,2)(2,1,2)[12]             : AIC=-338.596, Time=4.57 sec\n",
      " ARIMA(0,1,0)(2,1,2)[12]             : AIC=-239.236, Time=1.70 sec\n",
      " ARIMA(0,1,2)(2,1,2)[12]             : AIC=-338.642, Time=3.32 sec\n",
      " ARIMA(2,1,0)(2,1,2)[12]             : AIC=-322.797, Time=3.18 sec\n",
      " ARIMA(2,1,2)(2,1,2)[12]             : AIC=-336.801, Time=4.95 sec\n",
      " ARIMA(1,1,1)(2,1,2)[12] intercept   : AIC=-327.098, Time=6.48 sec\n",
      "\n",
      "Best model:  ARIMA(1,1,1)(2,1,2)[12]          \n",
      "Total fit time: 49.345 seconds\n",
      "-340.0722404385085\n"
     ]
    }
   ],
   "source": [
    "#Find parameters p, q, d and P, Q, and D for ARIMA model\n",
    "from pmdarima import auto_arima\n",
    "stepwise_model = auto_arima(data, start_p=1, start_q=1,\n",
    "                           max_p=3, max_q=3, m=12,\n",
    "                           start_P=0, seasonal=True,\n",
    "                           d=1, D=1, trace=True,\n",
    "                           error_action='ignore',  \n",
    "                           suppress_warnings=True, \n",
    "                           stepwise=True)\n",
    "print(stepwise_model.aic())"
   ]
  },
  {
   "cell_type": "code",
   "execution_count": 13,
   "id": "b9b335b1-c45d-4ee6-a01b-bd56edcaa64c",
   "metadata": {},
   "outputs": [
    {
     "data": {
      "application/vnd.jupyter.widget-view+json": {
       "model_id": "4982ca8b9d944a4a82a2155252b40651",
       "version_major": 2,
       "version_minor": 0
      },
      "text/plain": [
       "interactive(children=(SelectionRangeSlider(description='Train Dates', index=(0, 604), layout=Layout(width='500…"
      ]
     },
     "metadata": {},
     "output_type": "display_data"
    }
   ],
   "source": [
    "#Create interactive slider to get date ranges for training data and test data from user\n",
    "import ipywidgets as widgets\n",
    "from IPython.display import display\n",
    "min_date = data.index.min()\n",
    "max_date = data.index.max()\n",
    "dates = pd.date_range(min_date, max_date, freq='MS')\n",
    "train_options = [date.strftime('%Y-%m-%d') for date in dates]\n",
    "train_index = (0, len(dates)-1)\n",
    "selection_range_slider = widgets.SelectionRangeSlider(\n",
    "    options=train_options,\n",
    "    index=train_index,\n",
    "    description='Train Dates',\n",
    "    orientation='horizontal',\n",
    "    layout={'width': '500px'}\n",
    ")\n",
    "def get_train_dates(range):\n",
    "    return range\n",
    "train_dates = widgets.interactive(\n",
    "    get_train_dates,\n",
    "    range=selection_range_slider\n",
    ");\n",
    "display(train_dates)"
   ]
  },
  {
   "cell_type": "code",
   "execution_count": 14,
   "id": "a90f4021-f420-4e80-a96b-bab6a945a378",
   "metadata": {},
   "outputs": [
    {
     "data": {
      "text/html": [
       "<style>#sk-container-id-1 {color: black;}#sk-container-id-1 pre{padding: 0;}#sk-container-id-1 div.sk-toggleable {background-color: white;}#sk-container-id-1 label.sk-toggleable__label {cursor: pointer;display: block;width: 100%;margin-bottom: 0;padding: 0.3em;box-sizing: border-box;text-align: center;}#sk-container-id-1 label.sk-toggleable__label-arrow:before {content: \"▸\";float: left;margin-right: 0.25em;color: #696969;}#sk-container-id-1 label.sk-toggleable__label-arrow:hover:before {color: black;}#sk-container-id-1 div.sk-estimator:hover label.sk-toggleable__label-arrow:before {color: black;}#sk-container-id-1 div.sk-toggleable__content {max-height: 0;max-width: 0;overflow: hidden;text-align: left;background-color: #f0f8ff;}#sk-container-id-1 div.sk-toggleable__content pre {margin: 0.2em;color: black;border-radius: 0.25em;background-color: #f0f8ff;}#sk-container-id-1 input.sk-toggleable__control:checked~div.sk-toggleable__content {max-height: 200px;max-width: 100%;overflow: auto;}#sk-container-id-1 input.sk-toggleable__control:checked~label.sk-toggleable__label-arrow:before {content: \"▾\";}#sk-container-id-1 div.sk-estimator input.sk-toggleable__control:checked~label.sk-toggleable__label {background-color: #d4ebff;}#sk-container-id-1 div.sk-label input.sk-toggleable__control:checked~label.sk-toggleable__label {background-color: #d4ebff;}#sk-container-id-1 input.sk-hidden--visually {border: 0;clip: rect(1px 1px 1px 1px);clip: rect(1px, 1px, 1px, 1px);height: 1px;margin: -1px;overflow: hidden;padding: 0;position: absolute;width: 1px;}#sk-container-id-1 div.sk-estimator {font-family: monospace;background-color: #f0f8ff;border: 1px dotted black;border-radius: 0.25em;box-sizing: border-box;margin-bottom: 0.5em;}#sk-container-id-1 div.sk-estimator:hover {background-color: #d4ebff;}#sk-container-id-1 div.sk-parallel-item::after {content: \"\";width: 100%;border-bottom: 1px solid gray;flex-grow: 1;}#sk-container-id-1 div.sk-label:hover label.sk-toggleable__label {background-color: #d4ebff;}#sk-container-id-1 div.sk-serial::before {content: \"\";position: absolute;border-left: 1px solid gray;box-sizing: border-box;top: 0;bottom: 0;left: 50%;z-index: 0;}#sk-container-id-1 div.sk-serial {display: flex;flex-direction: column;align-items: center;background-color: white;padding-right: 0.2em;padding-left: 0.2em;position: relative;}#sk-container-id-1 div.sk-item {position: relative;z-index: 1;}#sk-container-id-1 div.sk-parallel {display: flex;align-items: stretch;justify-content: center;background-color: white;position: relative;}#sk-container-id-1 div.sk-item::before, #sk-container-id-1 div.sk-parallel-item::before {content: \"\";position: absolute;border-left: 1px solid gray;box-sizing: border-box;top: 0;bottom: 0;left: 50%;z-index: -1;}#sk-container-id-1 div.sk-parallel-item {display: flex;flex-direction: column;z-index: 1;position: relative;background-color: white;}#sk-container-id-1 div.sk-parallel-item:first-child::after {align-self: flex-end;width: 50%;}#sk-container-id-1 div.sk-parallel-item:last-child::after {align-self: flex-start;width: 50%;}#sk-container-id-1 div.sk-parallel-item:only-child::after {width: 0;}#sk-container-id-1 div.sk-dashed-wrapped {border: 1px dashed gray;margin: 0 0.4em 0.5em 0.4em;box-sizing: border-box;padding-bottom: 0.4em;background-color: white;}#sk-container-id-1 div.sk-label label {font-family: monospace;font-weight: bold;display: inline-block;line-height: 1.2em;}#sk-container-id-1 div.sk-label-container {text-align: center;}#sk-container-id-1 div.sk-container {/* jupyter's `normalize.less` sets `[hidden] { display: none; }` but bootstrap.min.css set `[hidden] { display: none !important; }` so we also need the `!important` here to be able to override the default hidden behavior on the sphinx rendered scikit-learn.org. See: https://github.com/scikit-learn/scikit-learn/issues/21755 */display: inline-block !important;position: relative;}#sk-container-id-1 div.sk-text-repr-fallback {display: none;}</style><div id=\"sk-container-id-1\" class=\"sk-top-container\"><div class=\"sk-text-repr-fallback\"><pre> ARIMA(1,1,1)(2,1,2)[12]          </pre><b>In a Jupyter environment, please rerun this cell to show the HTML representation or trust the notebook. <br />On GitHub, the HTML representation is unable to render, please try loading this page with nbviewer.org.</b></div><div class=\"sk-container\" hidden><div class=\"sk-item\"><div class=\"sk-estimator sk-toggleable\"><input class=\"sk-toggleable__control sk-hidden--visually\" id=\"sk-estimator-id-1\" type=\"checkbox\" checked><label for=\"sk-estimator-id-1\" class=\"sk-toggleable__label sk-toggleable__label-arrow\">ARIMA</label><div class=\"sk-toggleable__content\"><pre> ARIMA(1,1,1)(2,1,2)[12]          </pre></div></div></div></div></div>"
      ],
      "text/plain": [
       "ARIMA(order=(1, 1, 1), scoring_args={}, seasonal_order=(2, 1, 2, 12),\n",
       "      suppress_warnings=True, with_intercept=False)"
      ]
     },
     "execution_count": 14,
     "metadata": {},
     "output_type": "execute_result"
    }
   ],
   "source": [
    "#Train ARIMA model with given training data and test data ranges\n",
    "train_range = data.loc[train_dates.result[0]: train_dates.result[1]]\n",
    "test_range = data.loc[train_dates.result[1]:max_date]\n",
    "stepwise_model.fit(train_range)"
   ]
  },
  {
   "cell_type": "code",
   "execution_count": 15,
   "id": "d8d26e72-bc5b-44b6-bdd8-7f33a0731bcb",
   "metadata": {},
   "outputs": [
    {
     "name": "stdin",
     "output_type": "stream",
     "text": [
      "Input number of prediction periods (months): 120\n"
     ]
    },
    {
     "name": "stdout",
     "output_type": "stream",
     "text": [
      "2023-06-01    8.015631\n",
      "2023-07-01    8.537477\n",
      "2023-08-01    8.497074\n",
      "2023-09-01    7.776740\n",
      "2023-10-01    7.865924\n",
      "                ...   \n",
      "2033-01-01    9.354668\n",
      "2033-02-01    8.387833\n",
      "2033-03-01    8.570388\n",
      "2033-04-01    7.661975\n",
      "2033-05-01    7.878981\n",
      "Freq: MS, Length: 120, dtype: float64\n"
     ]
    }
   ],
   "source": [
    "#Create a forecast either to predict future values or to evaluate fit versus test data\n",
    "periods = int(input('Input number of prediction periods (months):'))\n",
    "future_forecast = stepwise_model.predict(n_periods=periods)\n",
    "print(future_forecast)"
   ]
  },
  {
   "cell_type": "code",
   "execution_count": 16,
   "id": "98ab20f1-2002-4c7c-bd72-e995fff86cc9",
   "metadata": {},
   "outputs": [
    {
     "data": {
      "text/html": [
       "\n",
       "        <iframe\n",
       "            width=\"100%\"\n",
       "            height=\"525px\"\n",
       "            src=\"https://plotly.com/~whuynh/126.embed\"\n",
       "            frameborder=\"0\"\n",
       "            allowfullscreen\n",
       "            \n",
       "        ></iframe>\n",
       "        "
      ],
      "text/plain": [
       "<IPython.lib.display.IFrame at 0x14d2a91e1d0>"
      ]
     },
     "execution_count": 16,
     "metadata": {},
     "output_type": "execute_result"
    }
   ],
   "source": [
    "#Compare model prediction versus test data, will not be useful if predicting in the future\n",
    "future_forecast = pd.DataFrame(future_forecast, columns=['Predicted Primary Energy Consumption'])\n",
    "pd.concat([test_range,future_forecast],axis=1).iplot()"
   ]
  },
  {
   "cell_type": "code",
   "execution_count": 17,
   "id": "2ad33d89-51d8-4b42-a670-6aed3b071e81",
   "metadata": {},
   "outputs": [
    {
     "data": {
      "text/html": [
       "\n",
       "        <iframe\n",
       "            width=\"100%\"\n",
       "            height=\"525px\"\n",
       "            src=\"https://plotly.com/~whuynh/128.embed\"\n",
       "            frameborder=\"0\"\n",
       "            allowfullscreen\n",
       "            \n",
       "        ></iframe>\n",
       "        "
      ],
      "text/plain": [
       "<IPython.lib.display.IFrame at 0x14d1cff6f90>"
      ]
     },
     "execution_count": 17,
     "metadata": {},
     "output_type": "execute_result"
    }
   ],
   "source": [
    "pd.concat([data,future_forecast],axis=1).iplot()"
   ]
  }
 ],
 "metadata": {
  "kernelspec": {
   "display_name": "Python 3 (ipykernel)",
   "language": "python",
   "name": "python3"
  },
  "language_info": {
   "codemirror_mode": {
    "name": "ipython",
    "version": 3
   },
   "file_extension": ".py",
   "mimetype": "text/x-python",
   "name": "python",
   "nbconvert_exporter": "python",
   "pygments_lexer": "ipython3",
   "version": "3.11.4"
  }
 },
 "nbformat": 4,
 "nbformat_minor": 5
}

{
 "cells": [
  {
   "cell_type": "code",
   "execution_count": 62,
   "id": "d82b5a84-61f9-4f4d-a3cc-0d64e0a5edd2",
   "metadata": {},
   "outputs": [
    {
     "name": "stdout",
     "output_type": "stream",
     "text": [
      "            Total Primary Energy Consumption (Quadrillion BTU)\n",
      "YYYYMM                                                        \n",
      "1973-01-01                                           7.223873 \n",
      "1973-02-01                                           6.592366 \n",
      "1973-03-01                                           6.521439 \n",
      "1973-04-01                                           5.941729 \n",
      "1973-05-01                                           6.071940 \n",
      "...                                                       ... \n",
      "2023-01-01                                           8.896747 \n",
      "2023-02-01                                           8.018247 \n",
      "2023-03-01                                           8.617804 \n",
      "2023-04-01                                           7.686575 \n",
      "2023-05-01                                           7.872248 \n",
      "\n",
      "[605 rows x 1 columns]\n"
     ]
    }
   ],
   "source": [
    "import pandas as pd\n",
    "data = pd.read_csv(\"US Monthly Total Primary Energy Consumption.csv\", index_col=0)\n",
    "data.head()\n",
    "data.index = pd.to_datetime(data.index, format='%Y%m', errors='coerce').dropna()\n",
    "data.columns = ['Total Primary Energy Consumption (Quadrillion BTU)']\n",
    "print(data)"
   ]
  },
  {
   "cell_type": "code",
   "execution_count": 30,
   "id": "b8f5b5db-7d10-425d-998f-3fb3c1161e5d",
   "metadata": {},
   "outputs": [
    {
     "data": {
      "text/html": [
       "\n",
       "        <iframe\n",
       "            width=\"100%\"\n",
       "            height=\"525px\"\n",
       "            src=\"https://plotly.com/~whuynh/10.embed\"\n",
       "            frameborder=\"0\"\n",
       "            allowfullscreen\n",
       "            \n",
       "        ></iframe>\n",
       "        "
      ],
      "text/plain": [
       "<IPython.lib.display.IFrame at 0x123a8595c90>"
      ]
     },
     "execution_count": 30,
     "metadata": {},
     "output_type": "execute_result"
    }
   ],
   "source": [
    "import chart_studio.tools as cstools\n",
    "import chart_studio.plotly as ply\n",
    "import cufflinks as cf\n",
    "import matplotlib.pyplot as plt\n",
    "from chart_studio.plotly import plot_mpl\n",
    "from statsmodels.tsa.seasonal import seasonal_decompose\n",
    "cstools.set_credentials_file(username='whuynh', api_key='F4a1vCyqrUUxMorao8Qf')\n",
    "result = seasonal_decompose(data, model='multiplicative')\n",
    "#fig = result.plot()\n",
    "#plot_mpl(fig)\n",
    "data.iplot(title=\"US Monthly Total Primary Energy Consumption, Jan 1973-April 2023\")"
   ]
  },
  {
   "cell_type": "code",
   "execution_count": 37,
   "id": "027eec9a-0459-49b2-aa38-97624a458eb8",
   "metadata": {},
   "outputs": [
    {
     "data": {
      "text/html": [
       "<iframe width=\"900\" height=\"500\" frameborder=\"0\" scrolling=\"no\" src=\"//plotly.com/~whuynh/29.embed\"></iframe>\n"
      ],
      "text/plain": [
       "<IPython.core.display.HTML object>"
      ]
     },
     "metadata": {},
     "output_type": "display_data"
    }
   ],
   "source": [
    "%%html\n",
    "<iframe width=\"900\" height=\"500\" frameborder=\"0\" scrolling=\"no\" src=\"//plotly.com/~whuynh/29.embed\"></iframe>"
   ]
  },
  {
   "cell_type": "code",
   "execution_count": 33,
   "id": "a8ec0aa0-295e-48f1-83c1-6df19b76823d",
   "metadata": {},
   "outputs": [
    {
     "name": "stdout",
     "output_type": "stream",
     "text": [
      "Performing stepwise search to minimize aic\n",
      " ARIMA(1,1,1)(0,1,1)[12]             : AIC=-316.704, Time=0.76 sec\n",
      " ARIMA(0,1,0)(0,1,0)[12]             : AIC=53.357, Time=0.04 sec\n",
      " ARIMA(1,1,0)(1,1,0)[12]             : AIC=-78.173, Time=0.17 sec\n",
      " ARIMA(0,1,1)(0,1,1)[12]             : AIC=-296.050, Time=0.47 sec\n",
      " ARIMA(1,1,1)(0,1,0)[12]             : AIC=-57.777, Time=0.16 sec\n",
      " ARIMA(1,1,1)(1,1,1)[12]             : AIC=-317.586, Time=1.07 sec\n",
      " ARIMA(1,1,1)(1,1,0)[12]             : AIC=-139.602, Time=0.34 sec\n",
      " ARIMA(1,1,1)(2,1,1)[12]             : AIC=-335.792, Time=2.52 sec\n",
      " ARIMA(1,1,1)(2,1,0)[12]             : AIC=-222.013, Time=0.62 sec\n",
      " ARIMA(1,1,1)(2,1,2)[12]             : AIC=-340.072, Time=4.49 sec\n",
      " ARIMA(1,1,1)(1,1,2)[12]             : AIC=-322.507, Time=4.18 sec\n",
      " ARIMA(0,1,1)(2,1,2)[12]             : AIC=-322.777, Time=3.48 sec\n",
      " ARIMA(1,1,0)(2,1,2)[12]             : AIC=-288.017, Time=2.97 sec\n",
      " ARIMA(2,1,1)(2,1,2)[12]             : AIC=-338.252, Time=4.59 sec\n",
      " ARIMA(1,1,2)(2,1,2)[12]             : AIC=-338.596, Time=4.52 sec\n",
      " ARIMA(0,1,0)(2,1,2)[12]             : AIC=-239.236, Time=1.75 sec\n",
      " ARIMA(0,1,2)(2,1,2)[12]             : AIC=-338.642, Time=3.26 sec\n",
      " ARIMA(2,1,0)(2,1,2)[12]             : AIC=-322.797, Time=3.02 sec\n",
      " ARIMA(2,1,2)(2,1,2)[12]             : AIC=-336.801, Time=5.23 sec\n",
      " ARIMA(1,1,1)(2,1,2)[12] intercept   : AIC=-327.098, Time=6.72 sec\n",
      "\n",
      "Best model:  ARIMA(1,1,1)(2,1,2)[12]          \n",
      "Total fit time: 50.383 seconds\n",
      "-340.0722404385085\n"
     ]
    }
   ],
   "source": [
    "from pmdarima import auto_arima\n",
    "stepwise_model = auto_arima(data, start_p=1, start_q=1,\n",
    "                           max_p=3, max_q=3, m=12,\n",
    "                           start_P=0, seasonal=True,\n",
    "                           d=1, D=1, trace=True,\n",
    "                           error_action='ignore',  \n",
    "                           suppress_warnings=True, \n",
    "                           stepwise=True)\n",
    "print(stepwise_model.aic())"
   ]
  },
  {
   "cell_type": "code",
   "execution_count": 97,
   "id": "06d27b30-7d9d-4d17-8bc7-94c471eb9d76",
   "metadata": {},
   "outputs": [
    {
     "name": "stdout",
     "output_type": "stream",
     "text": [
      "            Total Primary Energy Consumption (Quadrillion BTU)\n",
      "YYYYMM                                                        \n",
      "2009-01-01                                           9.126286 \n",
      "2009-02-01                                           7.866518 \n",
      "2009-03-01                                           8.045425 \n",
      "2009-04-01                                           7.334307 \n",
      "2009-05-01                                           7.280130 \n",
      "...                                                       ... \n",
      "2023-01-01                                           8.896747 \n",
      "2023-02-01                                           8.018247 \n",
      "2023-03-01                                           8.617804 \n",
      "2023-04-01                                           7.686575 \n",
      "2023-05-01                                           7.872248 \n",
      "\n",
      "[173 rows x 1 columns]\n"
     ]
    },
    {
     "data": {
      "text/html": [
       "<style>#sk-container-id-5 {color: black;}#sk-container-id-5 pre{padding: 0;}#sk-container-id-5 div.sk-toggleable {background-color: white;}#sk-container-id-5 label.sk-toggleable__label {cursor: pointer;display: block;width: 100%;margin-bottom: 0;padding: 0.3em;box-sizing: border-box;text-align: center;}#sk-container-id-5 label.sk-toggleable__label-arrow:before {content: \"▸\";float: left;margin-right: 0.25em;color: #696969;}#sk-container-id-5 label.sk-toggleable__label-arrow:hover:before {color: black;}#sk-container-id-5 div.sk-estimator:hover label.sk-toggleable__label-arrow:before {color: black;}#sk-container-id-5 div.sk-toggleable__content {max-height: 0;max-width: 0;overflow: hidden;text-align: left;background-color: #f0f8ff;}#sk-container-id-5 div.sk-toggleable__content pre {margin: 0.2em;color: black;border-radius: 0.25em;background-color: #f0f8ff;}#sk-container-id-5 input.sk-toggleable__control:checked~div.sk-toggleable__content {max-height: 200px;max-width: 100%;overflow: auto;}#sk-container-id-5 input.sk-toggleable__control:checked~label.sk-toggleable__label-arrow:before {content: \"▾\";}#sk-container-id-5 div.sk-estimator input.sk-toggleable__control:checked~label.sk-toggleable__label {background-color: #d4ebff;}#sk-container-id-5 div.sk-label input.sk-toggleable__control:checked~label.sk-toggleable__label {background-color: #d4ebff;}#sk-container-id-5 input.sk-hidden--visually {border: 0;clip: rect(1px 1px 1px 1px);clip: rect(1px, 1px, 1px, 1px);height: 1px;margin: -1px;overflow: hidden;padding: 0;position: absolute;width: 1px;}#sk-container-id-5 div.sk-estimator {font-family: monospace;background-color: #f0f8ff;border: 1px dotted black;border-radius: 0.25em;box-sizing: border-box;margin-bottom: 0.5em;}#sk-container-id-5 div.sk-estimator:hover {background-color: #d4ebff;}#sk-container-id-5 div.sk-parallel-item::after {content: \"\";width: 100%;border-bottom: 1px solid gray;flex-grow: 1;}#sk-container-id-5 div.sk-label:hover label.sk-toggleable__label {background-color: #d4ebff;}#sk-container-id-5 div.sk-serial::before {content: \"\";position: absolute;border-left: 1px solid gray;box-sizing: border-box;top: 0;bottom: 0;left: 50%;z-index: 0;}#sk-container-id-5 div.sk-serial {display: flex;flex-direction: column;align-items: center;background-color: white;padding-right: 0.2em;padding-left: 0.2em;position: relative;}#sk-container-id-5 div.sk-item {position: relative;z-index: 1;}#sk-container-id-5 div.sk-parallel {display: flex;align-items: stretch;justify-content: center;background-color: white;position: relative;}#sk-container-id-5 div.sk-item::before, #sk-container-id-5 div.sk-parallel-item::before {content: \"\";position: absolute;border-left: 1px solid gray;box-sizing: border-box;top: 0;bottom: 0;left: 50%;z-index: -1;}#sk-container-id-5 div.sk-parallel-item {display: flex;flex-direction: column;z-index: 1;position: relative;background-color: white;}#sk-container-id-5 div.sk-parallel-item:first-child::after {align-self: flex-end;width: 50%;}#sk-container-id-5 div.sk-parallel-item:last-child::after {align-self: flex-start;width: 50%;}#sk-container-id-5 div.sk-parallel-item:only-child::after {width: 0;}#sk-container-id-5 div.sk-dashed-wrapped {border: 1px dashed gray;margin: 0 0.4em 0.5em 0.4em;box-sizing: border-box;padding-bottom: 0.4em;background-color: white;}#sk-container-id-5 div.sk-label label {font-family: monospace;font-weight: bold;display: inline-block;line-height: 1.2em;}#sk-container-id-5 div.sk-label-container {text-align: center;}#sk-container-id-5 div.sk-container {/* jupyter's `normalize.less` sets `[hidden] { display: none; }` but bootstrap.min.css set `[hidden] { display: none !important; }` so we also need the `!important` here to be able to override the default hidden behavior on the sphinx rendered scikit-learn.org. See: https://github.com/scikit-learn/scikit-learn/issues/21755 */display: inline-block !important;position: relative;}#sk-container-id-5 div.sk-text-repr-fallback {display: none;}</style><div id=\"sk-container-id-5\" class=\"sk-top-container\"><div class=\"sk-text-repr-fallback\"><pre> ARIMA(1,1,1)(2,1,2)[12]          </pre><b>In a Jupyter environment, please rerun this cell to show the HTML representation or trust the notebook. <br />On GitHub, the HTML representation is unable to render, please try loading this page with nbviewer.org.</b></div><div class=\"sk-container\" hidden><div class=\"sk-item\"><div class=\"sk-estimator sk-toggleable\"><input class=\"sk-toggleable__control sk-hidden--visually\" id=\"sk-estimator-id-5\" type=\"checkbox\" checked><label for=\"sk-estimator-id-5\" class=\"sk-toggleable__label sk-toggleable__label-arrow\">ARIMA</label><div class=\"sk-toggleable__content\"><pre> ARIMA(1,1,1)(2,1,2)[12]          </pre></div></div></div></div></div>"
      ],
      "text/plain": [
       "ARIMA(order=(1, 1, 1), scoring_args={}, seasonal_order=(2, 1, 2, 12),\n",
       "      suppress_warnings=True, with_intercept=False)"
      ]
     },
     "execution_count": 97,
     "metadata": {},
     "output_type": "execute_result"
    }
   ],
   "source": [
    "train = data.loc['1973-01-01':'2008-12-01']\n",
    "test = data.loc['2009-01-01':'2023-05-01']\n",
    "print(test)\n",
    "stepwise_model.fit(train)"
   ]
  },
  {
   "cell_type": "code",
   "execution_count": 93,
   "id": "d8d26e72-bc5b-44b6-bdd8-7f33a0731bcb",
   "metadata": {},
   "outputs": [
    {
     "name": "stdout",
     "output_type": "stream",
     "text": [
      "2009-01-01    9.077321\n",
      "2009-02-01    8.296318\n",
      "2009-03-01    8.426350\n",
      "2009-04-01    7.668347\n",
      "2009-05-01    7.784757\n",
      "                ...   \n",
      "2023-01-01    8.873734\n",
      "2023-02-01    8.143134\n",
      "2023-03-01    8.232374\n",
      "2023-04-01    7.468739\n",
      "2023-05-01    7.597226\n",
      "Freq: MS, Length: 173, dtype: float64\n"
     ]
    }
   ],
   "source": [
    "future_forecast = stepwise_model.predict(n_periods=173)\n",
    "print(future_forecast)"
   ]
  },
  {
   "cell_type": "code",
   "execution_count": 99,
   "id": "98ab20f1-2002-4c7c-bd72-e995fff86cc9",
   "metadata": {},
   "outputs": [
    {
     "data": {
      "text/html": [
       "\n",
       "        <iframe\n",
       "            width=\"100%\"\n",
       "            height=\"525px\"\n",
       "            src=\"https://plotly.com/~whuynh/75.embed\"\n",
       "            frameborder=\"0\"\n",
       "            allowfullscreen\n",
       "            \n",
       "        ></iframe>\n",
       "        "
      ],
      "text/plain": [
       "<IPython.lib.display.IFrame at 0x123a6566690>"
      ]
     },
     "execution_count": 99,
     "metadata": {},
     "output_type": "execute_result"
    }
   ],
   "source": [
    "future_forecast = pd.DataFrame(future_forecast, columns=['Prediction'])\n",
    "pd.concat([test,future_forecast],axis=1).iplot()"
   ]
  },
  {
   "cell_type": "code",
   "execution_count": 101,
   "id": "2ad33d89-51d8-4b42-a670-6aed3b071e81",
   "metadata": {},
   "outputs": [
    {
     "data": {
      "text/html": [
       "\n",
       "        <iframe\n",
       "            width=\"100%\"\n",
       "            height=\"525px\"\n",
       "            src=\"https://plotly.com/~whuynh/79.embed\"\n",
       "            frameborder=\"0\"\n",
       "            allowfullscreen\n",
       "            \n",
       "        ></iframe>\n",
       "        "
      ],
      "text/plain": [
       "<IPython.lib.display.IFrame at 0x123b5dd88d0>"
      ]
     },
     "execution_count": 101,
     "metadata": {},
     "output_type": "execute_result"
    }
   ],
   "source": [
    "pd.concat([data,future_forecast],axis=1).iplot()"
   ]
  },
  {
   "cell_type": "code",
   "execution_count": null,
   "id": "96031395-d589-44e6-8e01-5c0f78a56885",
   "metadata": {},
   "outputs": [],
   "source": []
  }
 ],
 "metadata": {
  "kernelspec": {
   "display_name": "Python 3 (ipykernel)",
   "language": "python",
   "name": "python3"
  },
  "language_info": {
   "codemirror_mode": {
    "name": "ipython",
    "version": 3
   },
   "file_extension": ".py",
   "mimetype": "text/x-python",
   "name": "python",
   "nbconvert_exporter": "python",
   "pygments_lexer": "ipython3",
   "version": "3.11.4"
  }
 },
 "nbformat": 4,
 "nbformat_minor": 5
}
